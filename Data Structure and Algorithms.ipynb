{
 "cells": [
  {
   "cell_type": "markdown",
   "metadata": {},
   "source": [
    "# Node"
   ]
  },
  {
   "cell_type": "code",
   "execution_count": 1,
   "metadata": {},
   "outputs": [
    {
     "name": "stdout",
     "output_type": "stream",
     "text": [
      "enjoys spending time in movie lots\n",
      "has a penchant for hoarding snacks\n"
     ]
    }
   ],
   "source": [
    "class Node():\n",
    "    def __init__(self, value, link_node=None):\n",
    "        self.value = value\n",
    "        self.link_node = link_node\n",
    "    \n",
    "    def get_value(self):\n",
    "        return self.value\n",
    "    \n",
    "    def get_link_node(self):\n",
    "        return self.link_node\n",
    "    \n",
    "    def set_link_node(self, link_node):\n",
    "        self.link_node = link_node\n",
    "\n",
    "yacko = Node(\"likes to yak\")\n",
    "wacko = Node(\"has a penchant for hoarding snacks\")\n",
    "dot = Node(\"enjoys spending time in movie lots\")\n",
    "\n",
    "dot.set_link_node(wacko)\n",
    "yacko.set_link_node(dot)\n",
    "\n",
    "dots_data = yacko.get_link_node().get_value()\n",
    "wackos_data = dot.get_link_node().get_value()\n",
    "\n",
    "print(dots_data)\n",
    "print(wackos_data)"
   ]
  },
  {
   "cell_type": "code",
   "execution_count": 2,
   "metadata": {},
   "outputs": [
    {
     "name": "stdout",
     "output_type": "stream",
     "text": [
      "44\n"
     ]
    }
   ],
   "source": [
    "class Node():\n",
    "    def __init__(self, value, next_node=None):\n",
    "        self.value = value\n",
    "        self.next_node = next_node\n",
    "    \n",
    "    def get_value(self):\n",
    "        return self.value\n",
    "    \n",
    "    def get_next_node(self):\n",
    "        return self.next_node\n",
    "    \n",
    "    def set_link_node(self, next_node):\n",
    "        self.next_node = next_node\n",
    "\n",
    "my_node = Node(44)\n",
    "print(my_node.get_value())"
   ]
  },
  {
   "cell_type": "markdown",
   "metadata": {},
   "source": [
    "# Linked List"
   ]
  },
  {
   "cell_type": "code",
   "execution_count": 3,
   "metadata": {},
   "outputs": [],
   "source": [
    "class LinkedList():\n",
    "    def __init__(self, value=None):\n",
    "        self.head_node = Node(value)\n",
    "        \n",
    "    def get_head_node(self):\n",
    "        return self.head_node\n",
    "    \n",
    "    def insert_beginning(self, new_value):\n",
    "        new_node = Node(new_value)\n",
    "        new_node.set_link_node(self.head_node)\n",
    "        self.head_node = new_node\n",
    "        \n",
    "    def stringify_list(self):\n",
    "        string_list = \"\"\n",
    "        current_node = self.get_head_node()\n",
    "        while current_node:\n",
    "            if current_node.get_value() != None:\n",
    "                string_list += str(current_node.get_value()) + \"\\n\"\n",
    "            current_node = current_node.get_next_node()\n",
    "        \n",
    "        return string_list\n",
    "    \n",
    "    def remove_node(self, value_to_remove):\n",
    "        current_node = self.get_head_node()\n",
    "        if current_node.get_value() == value_to_remove:\n",
    "            self.head_node = current_node.get_next_node()\n",
    "        else:\n",
    "            while current_node:\n",
    "                next_node = current_node.get_next_node()\n",
    "                if next_node.get_value() == value_to_remove:\n",
    "                    current_node.set_link_node(next_node.get_next_node())\n",
    "                    current_node = None \n",
    "                else:\n",
    "                    current_node = next_node"
   ]
  },
  {
   "cell_type": "code",
   "execution_count": 4,
   "metadata": {},
   "outputs": [
    {
     "name": "stdout",
     "output_type": "stream",
     "text": [
      "90\n",
      "5675\n",
      "70\n",
      "5\n",
      "\n",
      "90\n",
      "70\n",
      "5\n",
      "\n"
     ]
    }
   ],
   "source": [
    "ll = LinkedList(5)\n",
    "ll.insert_beginning(70)\n",
    "ll.insert_beginning(5675)\n",
    "ll.insert_beginning(90)\n",
    "print(ll.stringify_list())\n",
    "\n",
    "ll.remove_node(5675)\n",
    "print(ll.stringify_list())"
   ]
  },
  {
   "cell_type": "markdown",
   "metadata": {},
   "source": [
    "# Stack"
   ]
  },
  {
   "cell_type": "code",
   "execution_count": 5,
   "metadata": {},
   "outputs": [],
   "source": [
    "class Stack():\n",
    "    def __init__(self, top_item=None, size=0, limit=1000):\n",
    "        self.top_item = top_item\n",
    "        self.size = size\n",
    "        self.limit = limit\n",
    "    \n",
    "    def has_space(self):\n",
    "        return self.limit > self.size\n",
    "    \n",
    "    def is_empty(self):\n",
    "        return self.size == 0\n",
    "    \n",
    "    def peek(self):\n",
    "        if not self.is_empty():\n",
    "            return self.top_item.get_value()\n",
    "        else:\n",
    "            print('this stack is empty')\n",
    "    \n",
    "    def push(self, value):\n",
    "        if self.has_space():\n",
    "            item = Node(value)\n",
    "            item.set_link_node(self.top_item)\n",
    "            self.top_item = item\n",
    "            self.size += 1\n",
    "            print('adding item to the stack')\n",
    "        else:\n",
    "            print('no space')\n",
    "        \n",
    "    def pop(self):\n",
    "        if not self.is_empty():\n",
    "            item_to_remove = self.top_item\n",
    "            self.top_item = item_to_remove.get_next_node()\n",
    "            self.size -= 1\n",
    "            print('removing from stack')\n",
    "            return item_to_remove.get_value()\n",
    "        else:\n",
    "            print('this stack is empty')"
   ]
  },
  {
   "cell_type": "code",
   "execution_count": 6,
   "metadata": {},
   "outputs": [
    {
     "name": "stdout",
     "output_type": "stream",
     "text": [
      "adding item to the stack\n",
      "adding item to the stack\n",
      "adding item to the stack\n",
      "adding item to the stack\n",
      "adding item to the stack\n",
      "adding item to the stack\n",
      "no space\n",
      "The first pizza to deliver is pizza #6\n",
      "removing from stack\n",
      "removing from stack\n",
      "removing from stack\n",
      "removing from stack\n",
      "removing from stack\n",
      "removing from stack\n",
      "this stack is empty\n"
     ]
    }
   ],
   "source": [
    "# Defining an empty pizza stack\n",
    "pizza_stack = Stack(limit=6)\n",
    "# Adding pizzas as they are ready until we have \n",
    "pizza_stack.push(\"pizza #1\")\n",
    "pizza_stack.push(\"pizza #2\")\n",
    "pizza_stack.push(\"pizza #3\")\n",
    "pizza_stack.push(\"pizza #4\")\n",
    "pizza_stack.push(\"pizza #5\")\n",
    "pizza_stack.push(\"pizza #6\")\n",
    "\n",
    "# Uncomment the push() statement below:\n",
    "pizza_stack.push(\"pizza #7\")\n",
    "\n",
    "# Delivering pizzas from the top of the stack down\n",
    "print(\"The first pizza to deliver is \" + pizza_stack.peek())\n",
    "pizza_stack.pop()\n",
    "pizza_stack.pop()\n",
    "pizza_stack.pop()\n",
    "pizza_stack.pop()\n",
    "pizza_stack.pop()\n",
    "pizza_stack.pop()\n",
    "\n",
    "# Uncomment the pop() statement below:\n",
    "pizza_stack.pop()"
   ]
  },
  {
   "cell_type": "markdown",
   "metadata": {},
   "source": [
    "# Queue"
   ]
  },
  {
   "cell_type": "code",
   "execution_count": 7,
   "metadata": {},
   "outputs": [],
   "source": [
    "class Queue():\n",
    "    def __init__(self, max_size=None):\n",
    "        self.head = None\n",
    "        self.tail = None\n",
    "        self.max_size = max_size\n",
    "        self.size = 0\n",
    "    \n",
    "    def get_size(self):\n",
    "        return self.size\n",
    "    \n",
    "    def has_space(self):\n",
    "        return self.max_size > self.size\n",
    "    \n",
    "    def is_empty (self):\n",
    "        return self.size <= 0\n",
    "    \n",
    "    def peek(self):\n",
    "        if self.get_size() <= 0:\n",
    "            print ('the queue is empty')\n",
    "        else:\n",
    "            return self.head.get_value()\n",
    "    \n",
    "    def enqueue(self, value):\n",
    "        if self.has_space():\n",
    "            print('adding to queue')\n",
    "            if self.is_empty():\n",
    "                self.head = self.tail = Node(value)\n",
    "                self.size += 1\n",
    "            else: \n",
    "                item_to_add = Node(value)\n",
    "                current_tail = self.tail\n",
    "                current_tail.set_link_node(item_to_add)\n",
    "                self.tail = item_to_add\n",
    "                self.size += 1\n",
    "        else:\n",
    "            print('no space')\n",
    "            \n",
    "    def dequeue(self):\n",
    "        if self.is_empty():\n",
    "            print('empty')\n",
    "        else:\n",
    "            item_to_remove = self.head\n",
    "            print('dequeue')\n",
    "            if self.get_size() == 1:\n",
    "                self.head = self.tail = None\n",
    "            else:\n",
    "                self.head = item_to_remove.get_next_node()\n",
    "            self.size -= 1\n",
    "            return print(item_to_remove.get_value()) "
   ]
  },
  {
   "cell_type": "code",
   "execution_count": 8,
   "metadata": {},
   "outputs": [
    {
     "name": "stdout",
     "output_type": "stream",
     "text": [
      "adding to queue\n",
      "adding to queue\n",
      "no space\n",
      "dequeue\n",
      "some guy with a mustache\n",
      "dequeue\n",
      "some mustache\n",
      "empty\n"
     ]
    }
   ],
   "source": [
    "q = Queue(2)\n",
    "q.enqueue(\"some guy with a mustache\")\n",
    "q.enqueue(\"some mustache\")\n",
    "q.enqueue(\"mustache\")\n",
    "\n",
    "q.dequeue()\n",
    "q.dequeue()\n",
    "q.dequeue()"
   ]
  },
  {
   "cell_type": "markdown",
   "metadata": {},
   "source": [
    "# HashMap, open addressing"
   ]
  },
  {
   "cell_type": "code",
   "execution_count": 9,
   "metadata": {},
   "outputs": [],
   "source": [
    "class HashMap():\n",
    "    \n",
    "    def __init__(self, array_size):\n",
    "        self.array_size = array_size\n",
    "        self.array = [None] * self.array_size\n",
    "        \n",
    "    def Hash(self, key, collisions=0):\n",
    "        key_bytes = key.encode()\n",
    "        hash_code = sum(key_bytes)\n",
    "        return hash_code + collisions\n",
    "    \n",
    "    def compressor(self, hash_code):\n",
    "        return hash_code % self.array_size\n",
    "    \n",
    "    def assign(self, key, value):\n",
    "        array_index = self.compressor(self.Hash(key))\n",
    "        array_value = self.array[array_index]\n",
    "        assign_collisions = 1\n",
    "\n",
    "        if array_value is None:\n",
    "            self.array[array_index] = [key, value]\n",
    "            return\n",
    "        \n",
    "        if array_value[0] == key:\n",
    "            self.array[array_index] = [key, value]\n",
    "            return\n",
    "\n",
    "        while array_value[0] != key:\n",
    "            new_hash_code = self.Hash(key, assign_collisions)\n",
    "            new_array_index = self.compressor(new_hash_code)\n",
    "            new_array_value = self.array[new_array_index]\n",
    "            array_value = new_array_value\n",
    "            if array_value is None:\n",
    "                self.array[new_array_index] = [key, value]\n",
    "                return\n",
    "            if array_value[0] == key:\n",
    "                self.array[new_array_index] = [key, value]\n",
    "                return\n",
    "            assign_collisions += 1\n",
    "                       \n",
    "    def retrieve(self, key):\n",
    "        array_index = self.compressor(self.Hash(key))\n",
    "        array_value = self.array[array_index]\n",
    "        retrieve_collisions = 1\n",
    "        \n",
    "        if array_value is None:\n",
    "            return None\n",
    "        \n",
    "        if array_value[0] == key:\n",
    "            return array_value[1]\n",
    "        \n",
    "        while array_value[0] != key:\n",
    "            new_hash_code = self.Hash(key, retrieve_collisions)\n",
    "            new_array_index = self.compressor(new_hash_code)\n",
    "            new_array_value = self.array[new_array_index]\n",
    "            array_value = new_array_value\n",
    "            \n",
    "            if array_value is None:\n",
    "                return None\n",
    "            \n",
    "            if array_value[0] == key:\n",
    "                return array_value[1]\n",
    "            \n",
    "            retrieve_collisions += 1"
   ]
  },
  {
   "cell_type": "code",
   "execution_count": 10,
   "metadata": {},
   "outputs": [
    {
     "name": "stdout",
     "output_type": "stream",
     "text": [
      "metamorphic\n"
     ]
    }
   ],
   "source": [
    "hash_map = HashMap(20)\n",
    "hash_map.assign(\"gneiss\", \"metamorphic\")\n",
    "print(hash_map.retrieve(\"gneiss\"))"
   ]
  },
  {
   "cell_type": "code",
   "execution_count": 11,
   "metadata": {},
   "outputs": [
    {
     "name": "stdout",
     "output_type": "stream",
     "text": [
      "igneous\n",
      "sedimentary\n",
      "metamorphic\n",
      "duo\n",
      "sedimentary\n",
      "metamorphic\n"
     ]
    }
   ],
   "source": [
    "hash_map = HashMap(15)\n",
    "hash_map.assign('gabbro', 'igneous')\n",
    "hash_map.assign('sandstone', 'sedimentary')\n",
    "hash_map.assign('gneiss', 'metamorphic')\n",
    "\n",
    "print(hash_map.retrieve('gabbro'))\n",
    "print(hash_map.retrieve('sandstone'))\n",
    "print(hash_map.retrieve('gneiss'))\n",
    "\n",
    "hash_map.assign('gabbro', 'duo')\n",
    "print(hash_map.retrieve('gabbro'))\n",
    "print(hash_map.retrieve('sandstone'))\n",
    "print(hash_map.retrieve('gneiss'))"
   ]
  },
  {
   "cell_type": "markdown",
   "metadata": {},
   "source": [
    "# Hash table, closed addressing"
   ]
  },
  {
   "cell_type": "code",
   "execution_count": 12,
   "metadata": {},
   "outputs": [],
   "source": [
    "class Node():\n",
    "    def __init__(self, value):\n",
    "        self.value = value\n",
    "        self.next_node = None\n",
    "    \n",
    "    def get_value(self):\n",
    "        return self.value\n",
    "\n",
    "    def get_next_node(self):\n",
    "        return self.next_node\n",
    "\n",
    "    def set_next_node(self, next_node):\n",
    "        self.next_node = next_node\n",
    "        \n",
    "class LinkedList:\n",
    "    def __init__(self, head_node=None):\n",
    "        self.head_node = head_node\n",
    "\n",
    "    def insert(self, new_node):\n",
    "        current_node = self.head_node\n",
    "\n",
    "        if not current_node:\n",
    "            self.head_node = new_node\n",
    "\n",
    "        while(current_node):\n",
    "            next_node = current_node.get_next_node()\n",
    "            if not next_node:\n",
    "                current_node.set_next_node(new_node)\n",
    "            current_node = next_node\n",
    "\n",
    "    #NOTE the __iter__ method        \n",
    "    def __iter__(self):\n",
    "        current_node = self.head_node\n",
    "        while(current_node):\n",
    "            yield current_node.get_value()\n",
    "            current_node = current_node.get_next_node()"
   ]
  },
  {
   "cell_type": "code",
   "execution_count": 13,
   "metadata": {},
   "outputs": [],
   "source": [
    "class HashMap():\n",
    "    \n",
    "    def __init__(self, array_size):\n",
    "        self.array_size = array_size\n",
    "        self.array = [LinkedList()] * self.array_size\n",
    "        \n",
    "    def Hash(self, key):\n",
    "        key_bytes = key.encode()\n",
    "        hash_code = sum(key_bytes)\n",
    "        return hash_code\n",
    "    \n",
    "    def compressor(self, hash_code):\n",
    "        return hash_code % self.array_size\n",
    "    \n",
    "    def assign(self, key, value):\n",
    "        array_index = self.compressor(self.Hash(key))\n",
    "        \n",
    "        for item in self.array[array_index]:\n",
    "            if item[0] == key and item[1] == value:\n",
    "                return\n",
    "        \n",
    "        node_to_insert = Node([key, value])\n",
    "        self.array[array_index].insert(node_to_insert)\n",
    "        \n",
    "    def retrieve(self, key):\n",
    "        array_index = self.compressor(self.Hash(key))\n",
    "        \n",
    "        for item in self.array[array_index]:\n",
    "            if item[0] == key:\n",
    "                return item[1]\n",
    "            else:\n",
    "                return None"
   ]
  },
  {
   "cell_type": "code",
   "execution_count": 14,
   "metadata": {},
   "outputs": [
    {
     "name": "stdout",
     "output_type": "stream",
     "text": [
      "None\n"
     ]
    }
   ],
   "source": [
    "flower_definitions = [['begonia', 'cautiousness'], ['chrysanthemum', 'cheerfulness'], ['carnation', 'memories'], ['daisy', 'innocence'], ['hyacinth', 'playfulness'], ['lavender', 'devotion'], ['magnolia', 'dignity'], ['morning glory', 'unrequited love'], ['periwinkle', 'new friendship'], ['poppy', 'rest'], ['rose', 'love'], ['snapdragon', 'grace'], ['sunflower', 'longevity'], ['wisteria', 'good luck']]\n",
    "\n",
    "blossom = HashMap(len(flower_definitions))\n",
    "for flower in flower_definitions:\n",
    "    blossom.assign(flower[0], flower[1])\n",
    "\n",
    "print(blossom.retrieve('rose'))"
   ]
  },
  {
   "cell_type": "markdown",
   "metadata": {},
   "source": [
    "# Tree"
   ]
  },
  {
   "cell_type": "code",
   "execution_count": 15,
   "metadata": {},
   "outputs": [],
   "source": [
    "class TreeNode():\n",
    "    def __init__(self, value):\n",
    "        self.value = value\n",
    "        self.children = [] \n",
    "        \n",
    "    def add_child(self, child_node):\n",
    "        print('Adding ' + child_node.value)\n",
    "        self.children.append(child_node)\n",
    "        \n",
    "    def remove_child(self, child_node):\n",
    "        print('Removing ' + child_node.value)\n",
    "        self.children.remove(child_node)\n",
    "        \n",
    "    def traverse(self):\n",
    "        nodes_to_visit = [self]\n",
    "        while nodes_to_visit:\n",
    "            current_node = nodes_to_visit.pop()\n",
    "            print(current_node.value)\n",
    "            nodes_to_visit += current_node.children"
   ]
  },
  {
   "cell_type": "code",
   "execution_count": 16,
   "metadata": {},
   "outputs": [
    {
     "name": "stdout",
     "output_type": "stream",
     "text": [
      "Adding Vice-President\n",
      "Adding Head of Marketing\n",
      "CEO\n",
      "Head of Marketing\n",
      "Vice-President\n",
      "Removing Head of Marketing\n",
      "CEO\n",
      "Vice-President\n"
     ]
    }
   ],
   "source": [
    "root = TreeNode(\"CEO\")\n",
    "first_child = TreeNode(\"Vice-President\")\n",
    "second_child = TreeNode(\"Head of Marketing\")\n",
    "\n",
    "root.add_child(first_child)\n",
    "root.add_child(second_child)\n",
    "\n",
    "root.traverse()\n",
    "\n",
    "root.remove_child(second_child)\n",
    "\n",
    "root.traverse()"
   ]
  },
  {
   "cell_type": "code",
   "execution_count": 17,
   "metadata": {},
   "outputs": [
    {
     "name": "stdout",
     "output_type": "stream",
     "text": [
      "Adding VP of Bananas\n",
      "Adding Executive Assistant\n",
      "Adding Banana R & D\n",
      "Founder\n",
      "Executive Assistant\n",
      "VP of Bananas\n",
      "Banana R & D\n"
     ]
    }
   ],
   "source": [
    "root = TreeNode('Founder')\n",
    "child_a = TreeNode('VP of Bananas')\n",
    "child_b = TreeNode('Executive Assistant')\n",
    "child_c = TreeNode('Banana R & D')\n",
    "\n",
    "# adding children to the root\n",
    "root.add_child(child_a)\n",
    "root.add_child(child_b)\n",
    "\n",
    "# assigning child_c to child_a creates an additional level in the tree\n",
    "child_a.add_child(child_c)\n",
    "\n",
    "root.traverse()\n",
    "# prints \"Founder\", \"VP of Bananas\", \"Executive Assistant\""
   ]
  },
  {
   "cell_type": "markdown",
   "metadata": {},
   "source": [
    "# Heap"
   ]
  },
  {
   "cell_type": "code",
   "execution_count": 18,
   "metadata": {},
   "outputs": [],
   "source": [
    "class MinHeap():\n",
    "    def __init__(self):\n",
    "        self.heap_list = [None]\n",
    "        self.count = 0\n",
    "        \n",
    "    def add(self, element):\n",
    "        print('Adding {0}'.format(element))\n",
    "        self.heap_list.append(element)\n",
    "        self.count += 1\n",
    "        self.heapify_up()\n",
    "        \n",
    "    def parent_idx(self, idx):\n",
    "        return idx // 2\n",
    "\n",
    "    def left_child_idx(self, idx):\n",
    "        return idx * 2\n",
    "\n",
    "    def right_child_idx(self, idx):\n",
    "        return idx * 2 + 1    \n",
    "               \n",
    "    def get_smaller_child_idx(self, idx):\n",
    "        if self.right_child_idx(idx) > self.count:\n",
    "            print('only have left child')\n",
    "            return self.left_child_idx(idx)\n",
    "        if self.right_child_idx(idx) <= self.count:\n",
    "            left_idx = self.left_child_idx(idx)\n",
    "            right_idx = self.right_child_idx(idx)\n",
    "            if self.heap_list[left_idx] > self.heap_list[right_idx]:\n",
    "                print(\"right child is smaller\")\n",
    "                return right_idx\n",
    "            else:\n",
    "                print(\"Left child is smaller\")\n",
    "                return left_idx\n",
    "        \n",
    "    def heapify_up(self):\n",
    "        current_index = len(self.heap_list) - 1\n",
    "        while self.parent_idx(current_index) > 0:\n",
    "            parent_index = self.parent_idx(current_index)\n",
    "            child_value = self.heap_list[current_index]\n",
    "            paretn_value = self.heap_list[parent_index]\n",
    "            if child_value < paretn_value:\n",
    "                print(\"swapping {0} with {1}\".format(paretn_value, child_value))\n",
    "                self.heap_list[current_index], self.heap_list[parent_index] = self.heap_list[parent_index], self.heap_list[current_index]\n",
    "            current_index = parent_index\n",
    "    \n",
    "    def retrieve_min(self):\n",
    "        if self.count == 0:\n",
    "            print(\"No item in the heap\")\n",
    "            return None\n",
    "        \n",
    "        min_value = self.heap_list[1]\n",
    "        print(\"The min value is {0}\".format(min_value))\n",
    "        \n",
    "        self.heap_list.remove(min_value)\n",
    "        self.count -= 1\n",
    "        \n",
    "        self.heapify_down()\n",
    "    \n",
    "    def heapify_down(self):\n",
    "        current_index = 1\n",
    "        while self.left_child_idx(current_index) <= self.count:\n",
    "            print(\"Heapifying down!\")\n",
    "            smaller_child_index = self.get_smaller_child_idx(current_index)\n",
    "            current_value = self.heap_list[current_index]\n",
    "            smaller_child_value = self.heap_list[smaller_child_index]\n",
    "            \n",
    "            if current_value > smaller_child_value:\n",
    "                self.heap_list[current_index], self.heap_list[smaller_child_index] = self.heap_list[smaller_child_index], self.heap_list[current_index]\n",
    "            \n",
    "            current_index = smaller_child_index \n",
    "        \n",
    "        print(\"Heap Restored! {0}\".format(self.heap_list))"
   ]
  },
  {
   "cell_type": "code",
   "execution_count": 19,
   "metadata": {},
   "outputs": [
    {
     "name": "stdout",
     "output_type": "stream",
     "text": [
      "Adding 66\n",
      "Adding 11\n",
      "swapping 66 with 11\n",
      "Adding 19\n",
      "Adding 41\n",
      "swapping 66 with 41\n",
      "Adding 63\n",
      "Adding 68\n",
      "Adding 36\n",
      "Adding 15\n",
      "swapping 66 with 15\n",
      "swapping 41 with 15\n",
      "[None, 11, 15, 19, 41, 63, 68, 36, 66]\n",
      "The min value is 11\n",
      "Heapifying down!\n",
      "Left child is smaller\n",
      "Heapifying down!\n",
      "Left child is smaller\n",
      "Heap Restored! [None, 15, 19, 41, 63, 68, 36, 66]\n"
     ]
    }
   ],
   "source": [
    "# import random number generator\n",
    "from random import randrange\n",
    "\n",
    "# make an instance of MinHeap\n",
    "min_heap = MinHeap()\n",
    "\n",
    "# populate min_heap with random numbers\n",
    "random_nums = [randrange(1, 101) for n in range(8)]\n",
    "for el in random_nums:\n",
    "    min_heap.add(el)\n",
    "\n",
    "# test it out, is the minimum number at index 1?\n",
    "print(min_heap.heap_list)\n",
    "min_heap.retrieve_min()"
   ]
  },
  {
   "cell_type": "code",
   "execution_count": 20,
   "metadata": {},
   "outputs": [
    {
     "name": "stdout",
     "output_type": "stream",
     "text": [
      "[None, 10, 13, 21, 61, 22, 23, 99]\n",
      "The min value is 10\n",
      "Heapifying down!\n",
      "Left child is smaller\n",
      "Heapifying down!\n",
      "Left child is smaller\n",
      "Heap Restored! [None, 13, 21, 61, 22, 23, 99]\n",
      "[None, 13, 21, 61, 22, 23, 99]\n",
      "The min value is 13\n",
      "Heapifying down!\n",
      "right child is smaller\n",
      "Heap Restored! [None, 21, 61, 22, 23, 99]\n",
      "[None, 21, 61, 22, 23, 99]\n",
      "The min value is 21\n",
      "Heapifying down!\n",
      "Left child is smaller\n",
      "Heapifying down!\n",
      "only have left child\n",
      "Heap Restored! [None, 22, 61, 23, 99]\n",
      "[None, 22, 61, 23, 99]\n",
      "The min value is 22\n",
      "Heapifying down!\n",
      "Left child is smaller\n",
      "Heap Restored! [None, 23, 61, 99]\n",
      "[None, 23, 61, 99]\n",
      "The min value is 23\n",
      "Heapifying down!\n",
      "only have left child\n",
      "Heap Restored! [None, 61, 99]\n",
      "[None, 61, 99]\n",
      "The min value is 61\n",
      "Heap Restored! [None, 99]\n",
      "[None, 99]\n",
      "The min value is 99\n",
      "Heap Restored! [None]\n"
     ]
    }
   ],
   "source": [
    "# make an instance of MinHeap\n",
    "min_heap = MinHeap()\n",
    "\n",
    "# set internal list for testing purposes...\n",
    "min_heap.heap_list = [None, 10, 13, 21, 61, 22, 23, 99]\n",
    "min_heap.count = 7\n",
    "\n",
    "while len(min_heap.heap_list) != 1:\n",
    "    print(min_heap.heap_list)\n",
    "    min_heap.retrieve_min()"
   ]
  },
  {
   "cell_type": "markdown",
   "metadata": {},
   "source": [
    "# Graph"
   ]
  },
  {
   "cell_type": "code",
   "execution_count": 21,
   "metadata": {},
   "outputs": [],
   "source": [
    "class Vertex():\n",
    "    \n",
    "    def __init__(self, value):\n",
    "        self.value = value\n",
    "        self.edges = {}\n",
    "    \n",
    "    def get_edges(self):\n",
    "        return [key for key in self.edges.keys()]\n",
    "    \n",
    "    def add_edge(self, added_edge, weight=0):\n",
    "        self.edges[added_edge] = weight"
   ]
  },
  {
   "cell_type": "code",
   "execution_count": 22,
   "metadata": {},
   "outputs": [
    {
     "name": "stdout",
     "output_type": "stream",
     "text": [
      "[]\n",
      "{'42nd Street Station': 0}\n",
      "['42nd Street Station']\n"
     ]
    }
   ],
   "source": [
    "grand_central = Vertex('Grand Central Station')\n",
    "forty_second_street = Vertex('42nd Street Station')\n",
    "\n",
    "print(grand_central.get_edges())\n",
    "# []\n",
    "grand_central.add_edge(forty_second_street.value)\n",
    "print(grand_central.edges)\n",
    "# { \"42nd Street Station\": True }\n",
    "print(grand_central.get_edges())\n",
    "# [\"42nd Street Station\"]"
   ]
  },
  {
   "cell_type": "code",
   "execution_count": 23,
   "metadata": {},
   "outputs": [],
   "source": [
    "class Graph():\n",
    "    def __init__(self, directed=False):\n",
    "        self.directed = directed\n",
    "        self.graph_dict = {}\n",
    "        \n",
    "    def add_vertex(self, vertex):\n",
    "        print('Adding {0}'.format(vertex.value))\n",
    "        self.graph_dict[vertex.value] = vertex\n",
    "        \n",
    "    def add_edge(self, from_vertex, to_vertex, weight=0):\n",
    "        print(\"Adding edge from {0} to {1}\".format(from_vertex.value, to_vertex.value))\n",
    "        self.graph_dict[from_vertex.value].add_edge(to_vertex.value, weight)\n",
    "        if not self.directed:\n",
    "            self.graph_dict[to_vertex.value].add_edge(from_vertex.value, weight)\n",
    "            \n",
    "    def find_path(self, start_vertex, end_vertex):\n",
    "        start = [start_vertex]\n",
    "        seen = {}\n",
    "        \n",
    "        while len(start) > 0:\n",
    "            current_vertex = start.pop(0)\n",
    "            seen[current_vertex] = True\n",
    "            print(\"visiting {0}\".format(current_vertex))\n",
    "            if current_vertex == end_vertex:\n",
    "                return True\n",
    "            else:\n",
    "                next_vertexs = [item for item in self.graph_dict[current_vertex].get_edges() if item not in list(seen.keys())]\n",
    "                start.extend(next_vertexs)\n",
    "        \n",
    "        return False"
   ]
  },
  {
   "cell_type": "code",
   "execution_count": 24,
   "metadata": {},
   "outputs": [
    {
     "name": "stdout",
     "output_type": "stream",
     "text": [
      "Adding callan\n",
      "Adding peel\n",
      "Adding harwick\n",
      "Adding ulfstead\n",
      "Adding edge from peel to harwick\n",
      "Adding edge from harwick to callan\n",
      "Adding edge from callan to peel\n",
      "visiting peel\n",
      "visiting harwick\n",
      "visiting callan\n",
      "visiting callan\n",
      "visiting harwick\n",
      "visiting peel\n",
      "A path exists between peel and ulfstead:\n",
      "False\n",
      "A path exists between harwick and peel:\n",
      "True\n"
     ]
    }
   ],
   "source": [
    "railway = Graph()\n",
    "\n",
    "callan = Vertex('callan')\n",
    "peel = Vertex('peel')\n",
    "ulfstead = Vertex('ulfstead')\n",
    "harwick = Vertex('harwick')\n",
    "\n",
    "railway.add_vertex(callan)\n",
    "railway.add_vertex(peel)\n",
    "railway.add_vertex(harwick)\n",
    "railway.add_vertex(ulfstead)\n",
    "\n",
    "railway.add_edge(peel, harwick)\n",
    "railway.add_edge(harwick, callan)\n",
    "railway.add_edge(callan, peel)\n",
    "\n",
    "# Uncomment the code below when you're done refactoring!\n",
    "\n",
    "peel_to_ulfstead_path_exists = railway.find_path('peel', 'ulfstead')\n",
    "harwick_to_peel_path_exists = railway.find_path('harwick', 'peel')\n",
    "\n",
    "print(\"A path exists between peel and ulfstead:\")\n",
    "print(peel_to_ulfstead_path_exists)\n",
    "print(\"A path exists between harwick and peel:\")\n",
    "print(harwick_to_peel_path_exists)"
   ]
  },
  {
   "cell_type": "markdown",
   "metadata": {},
   "source": [
    "# Recursion"
   ]
  },
  {
   "cell_type": "code",
   "execution_count": 25,
   "metadata": {},
   "outputs": [],
   "source": [
    "def sum_to_one(number):\n",
    "    if number == 1:\n",
    "        return number\n",
    "    return sum_to_one(number-1) + number"
   ]
  },
  {
   "cell_type": "code",
   "execution_count": 26,
   "metadata": {},
   "outputs": [
    {
     "data": {
      "text/plain": [
       "6"
      ]
     },
     "execution_count": 26,
     "metadata": {},
     "output_type": "execute_result"
    }
   ],
   "source": [
    "sum_to_one(3)"
   ]
  },
  {
   "cell_type": "code",
   "execution_count": 27,
   "metadata": {},
   "outputs": [],
   "source": [
    "def factorial(number):\n",
    "    if number == 1:\n",
    "        return number\n",
    "    return factorial(number - 1) * number"
   ]
  },
  {
   "cell_type": "code",
   "execution_count": 28,
   "metadata": {},
   "outputs": [
    {
     "data": {
      "text/plain": [
       "479001600"
      ]
     },
     "execution_count": 28,
     "metadata": {},
     "output_type": "execute_result"
    }
   ],
   "source": [
    "factorial(12)"
   ]
  },
  {
   "cell_type": "code",
   "execution_count": 29,
   "metadata": {},
   "outputs": [],
   "source": [
    "def Fibonacci(number):\n",
    "    if number == 0:\n",
    "        return 0\n",
    "    if number == 1:\n",
    "        return 1\n",
    "    return Fibonacci(number-1) + Fibonacci(number-2)"
   ]
  },
  {
   "cell_type": "code",
   "execution_count": 30,
   "metadata": {},
   "outputs": [
    {
     "data": {
      "text/plain": [
       "17711"
      ]
     },
     "execution_count": 30,
     "metadata": {},
     "output_type": "execute_result"
    }
   ],
   "source": [
    "Fibonacci(22)"
   ]
  },
  {
   "cell_type": "markdown",
   "metadata": {},
   "source": [
    "# Bubble sort"
   ]
  },
  {
   "cell_type": "code",
   "execution_count": 31,
   "metadata": {},
   "outputs": [],
   "source": [
    "def bubble_sort(arr):\n",
    "    count = 0\n",
    "    for iteration in range (0, len(arr)-1):\n",
    "        for i in range (0, len(arr)-count-1):\n",
    "            print('iteration{0}, round{1}'.format(count, i))\n",
    "            if arr[i] > arr[i + 1]:\n",
    "                arr[i] , arr[i + 1] = arr[i + 1] , arr[i]\n",
    "        count += 1"
   ]
  },
  {
   "cell_type": "code",
   "execution_count": 32,
   "metadata": {},
   "outputs": [
    {
     "name": "stdout",
     "output_type": "stream",
     "text": [
      "iteration0, round0\n",
      "iteration0, round1\n",
      "iteration0, round2\n",
      "iteration0, round3\n",
      "iteration0, round4\n",
      "iteration0, round5\n",
      "iteration0, round6\n",
      "iteration0, round7\n",
      "iteration1, round0\n",
      "iteration1, round1\n",
      "iteration1, round2\n",
      "iteration1, round3\n",
      "iteration1, round4\n",
      "iteration1, round5\n",
      "iteration1, round6\n",
      "iteration2, round0\n",
      "iteration2, round1\n",
      "iteration2, round2\n",
      "iteration2, round3\n",
      "iteration2, round4\n",
      "iteration2, round5\n",
      "iteration3, round0\n",
      "iteration3, round1\n",
      "iteration3, round2\n",
      "iteration3, round3\n",
      "iteration3, round4\n",
      "iteration4, round0\n",
      "iteration4, round1\n",
      "iteration4, round2\n",
      "iteration4, round3\n",
      "iteration5, round0\n",
      "iteration5, round1\n",
      "iteration5, round2\n",
      "iteration6, round0\n",
      "iteration6, round1\n",
      "iteration7, round0\n",
      "POST SORT: [1, 2, 3, 4, 5, 6, 7, 8, 9]\n"
     ]
    }
   ],
   "source": [
    "nums = [9, 4, 8, 6, 5, 1, 3, 7, 2]\n",
    "bubble_sort(nums)\n",
    "print(\"POST SORT: {0}\".format(nums))"
   ]
  },
  {
   "cell_type": "markdown",
   "metadata": {},
   "source": [
    "# Merge sort"
   ]
  },
  {
   "cell_type": "code",
   "execution_count": 33,
   "metadata": {},
   "outputs": [],
   "source": [
    "def merge(left, right):\n",
    "    \n",
    "    print('left {0}'.format(left))\n",
    "    print('right {0}'.format(right)) \n",
    "    \n",
    "    result = []\n",
    "    \n",
    "    while left and right:\n",
    "        if left[0] < right[0]:\n",
    "            result.append(left[0])\n",
    "            left.pop(0)\n",
    "        else:\n",
    "            result.append(right[0])\n",
    "            right.pop(0)\n",
    "            \n",
    "    if left:\n",
    "        result.extend(left)\n",
    "    if right:\n",
    "        result.extend(right)\n",
    "        \n",
    "    print('result {0}'.format(result))\n",
    "    \n",
    "    return result\n",
    "\n",
    "def merge_sort(arr):\n",
    "    if len(arr) <= 1:\n",
    "        return arr\n",
    "    \n",
    "    mid_index = len(arr)//2\n",
    "    left_split = arr[:mid_index]\n",
    "    right_split = arr[mid_index:]\n",
    "    \n",
    "    print('left split {0}'.format(left_split))\n",
    "    print('right split {0}'.format(right_split))\n",
    "    \n",
    "    left = merge_sort(left_split)\n",
    "    right = merge_sort(right_split)\n",
    "\n",
    "    return merge(left, right)"
   ]
  },
  {
   "cell_type": "code",
   "execution_count": 34,
   "metadata": {},
   "outputs": [
    {
     "name": "stdout",
     "output_type": "stream",
     "text": [
      "left split [356, 746, 264, 569]\n",
      "right split [949, 895, 125, 455]\n",
      "left split [356, 746]\n",
      "right split [264, 569]\n",
      "left split [356]\n",
      "right split [746]\n",
      "left [356]\n",
      "right [746]\n",
      "result [356, 746]\n",
      "left split [264]\n",
      "right split [569]\n",
      "left [264]\n",
      "right [569]\n",
      "result [264, 569]\n",
      "left [356, 746]\n",
      "right [264, 569]\n",
      "result [264, 356, 569, 746]\n",
      "left split [949, 895]\n",
      "right split [125, 455]\n",
      "left split [949]\n",
      "right split [895]\n",
      "left [949]\n",
      "right [895]\n",
      "result [895, 949]\n",
      "left split [125]\n",
      "right split [455]\n",
      "left [125]\n",
      "right [455]\n",
      "result [125, 455]\n",
      "left [895, 949]\n",
      "right [125, 455]\n",
      "result [125, 455, 895, 949]\n",
      "left [264, 356, 569, 746]\n",
      "right [125, 455, 895, 949]\n",
      "result [125, 264, 356, 455, 569, 746, 895, 949]\n"
     ]
    }
   ],
   "source": [
    "unordered_list1 = [356, 746, 264, 569, 949, 895, 125, 455]\n",
    "#unordered_list2 = [787, 677, 391, 318, 543, 717, 180, 113, 795, 19, 202, 534, 201, 370, 276, 975, 403, 624, 770, 595, 571, 268, 373]\n",
    "#unordered_list3 = [860, 380, 151, 585, 743, 542, 147, 820, 439, 865, 924, 387]\n",
    "\n",
    "\n",
    "ordered_list1 = merge_sort(unordered_list1)\n",
    "#ordered_list2 = merge_sort(unordered_list2)\n",
    "#ordered_list3 = merge_sort(unordered_list3)"
   ]
  },
  {
   "cell_type": "markdown",
   "metadata": {},
   "source": [
    "# Quick sort"
   ]
  },
  {
   "cell_type": "code",
   "execution_count": 35,
   "metadata": {},
   "outputs": [],
   "source": [
    "from random import randrange\n",
    "\n",
    "def quicksort(arr, start, end):\n",
    "    if start >= end:\n",
    "        return\n",
    "\n",
    "    pivot_idx = randrange(start, end+1)\n",
    "    pivot_element = arr[pivot_idx]\n",
    "    \n",
    "    lesser_than_pointer = start\n",
    "    \n",
    "    arr[end] , arr[pivot_idx] = arr[pivot_idx] , arr[end]\n",
    "    \n",
    "    for idx in range(start, end):\n",
    "        if arr[idx] < pivot_element:\n",
    "            lesser_than_pointer += 1\n",
    "            arr[idx] , arr[lesser_than_pointer] = arr[lesser_than_pointer] , arr[idx]\n",
    "            \n",
    "    arr[end] , arr[lesser_than_pointer] = arr[lesser_than_pointer] , arr[end]\n",
    "    \n",
    "    quicksort(arr, start, lesser_than_pointer-1)\n",
    "    quicksort(arr, lesser_than_pointer+1, end)"
   ]
  },
  {
   "cell_type": "code",
   "execution_count": 36,
   "metadata": {},
   "outputs": [
    {
     "data": {
      "text/plain": [
       "[113,\n",
       " 787,\n",
       " 180,\n",
       " 795,\n",
       " 201,\n",
       " 19,\n",
       " 202,\n",
       " 276,\n",
       " 717,\n",
       " 403,\n",
       " 534,\n",
       " 268,\n",
       " 571,\n",
       " 975,\n",
       " 770,\n",
       " 595,\n",
       " 391,\n",
       " 370,\n",
       " 677,\n",
       " 373,\n",
       " 624,\n",
       " 543,\n",
       " 318]"
      ]
     },
     "execution_count": 36,
     "metadata": {},
     "output_type": "execute_result"
    }
   ],
   "source": [
    "unordered_list2 = [787, 677, 391, 318, 543, 717, 180, 113, 795, 19, 202, 534, 201, 370, 276, 975, 403, 624, 770, 595, 571, 268, 373]\n",
    "quicksort(unordered_list2, 0, len(unordered_list2)-1)\n",
    "unordered_list2"
   ]
  },
  {
   "cell_type": "markdown",
   "metadata": {},
   "source": [
    "# Radix sort"
   ]
  },
  {
   "cell_type": "code",
   "execution_count": 37,
   "metadata": {},
   "outputs": [],
   "source": [
    "def radix_sort(arr):\n",
    "    maximum_value = max(arr)\n",
    "    max_exponent = len(str(maximum_value))\n",
    "    being_sorted = arr.copy()\n",
    "    \n",
    "    for exponent in range(max_exponent):    \n",
    "        # It can not be [[]] * 10, WHY?\n",
    "        digits = [[] for i in range(10)]\n",
    "        position = exponent + 1\n",
    "        index = -position\n",
    "        \n",
    "        for number in being_sorted:\n",
    "            number_string = str(number)\n",
    "            \n",
    "            try:\n",
    "                digit = number_string[index]\n",
    "            except IndexError:\n",
    "                digit = 0\n",
    "                \n",
    "            digit = int(digit)\n",
    "            digits[digit].append(number)\n",
    "        \n",
    "        being_sorted = []\n",
    "        for numral in digits:\n",
    "            being_sorted.extend(numral)\n",
    "            \n",
    "    return being_sorted"
   ]
  },
  {
   "cell_type": "code",
   "execution_count": 38,
   "metadata": {},
   "outputs": [
    {
     "data": {
      "text/plain": [
       "[19,\n",
       " 113,\n",
       " 180,\n",
       " 201,\n",
       " 202,\n",
       " 268,\n",
       " 276,\n",
       " 318,\n",
       " 370,\n",
       " 373,\n",
       " 391,\n",
       " 403,\n",
       " 534,\n",
       " 543,\n",
       " 571,\n",
       " 595,\n",
       " 624,\n",
       " 677,\n",
       " 717,\n",
       " 770,\n",
       " 787,\n",
       " 795,\n",
       " 975]"
      ]
     },
     "execution_count": 38,
     "metadata": {},
     "output_type": "execute_result"
    }
   ],
   "source": [
    "unordered_list2 = [787, 677, 391, 318, 543, 717, 180, 113, 795, 19, 202, 534, 201, 370, 276, 975, 403, 624, 770, 595, 571, 268, 373]\n",
    "radix_sort(unordered_list2)"
   ]
  },
  {
   "cell_type": "markdown",
   "metadata": {},
   "source": [
    "# linear search"
   ]
  },
  {
   "cell_type": "code",
   "execution_count": 39,
   "metadata": {},
   "outputs": [
    {
     "name": "stdout",
     "output_type": "stream",
     "text": [
      "[0, 5]\n"
     ]
    }
   ],
   "source": [
    "# Search list and target value\n",
    "tour_locations = [ \"New York City\", \"Los Angeles\", \"Bangkok\", \"Istanbul\", \"London\", \"New York City\", \"Toronto\"]\n",
    "target_city = \"New York City\"\n",
    "\n",
    "#Linear Search Algorithm\n",
    "def linear_search(search_list, target_value):\n",
    "    matches = []\n",
    "    for idx in range(len(search_list)):\n",
    "        if search_list[idx] == target_value:\n",
    "            matches.append(idx)\n",
    "        \n",
    "    if matches:\n",
    "        return matches\n",
    "    else:\n",
    "        raise ValueError(\"{0} not in list\".format(target_value))\n",
    "\n",
    "#Function call\n",
    "tour_stops = linear_search(tour_locations, target_city)\n",
    "print(tour_stops)"
   ]
  },
  {
   "cell_type": "code",
   "execution_count": 40,
   "metadata": {},
   "outputs": [
    {
     "name": "stdout",
     "output_type": "stream",
     "text": [
      "100\n"
     ]
    }
   ],
   "source": [
    "# Search list\n",
    "test_scores = [88, 93, 75, 100, 80, 67, 71, 92, 90, 83]\n",
    "\n",
    "#Linear Search Algorithm\n",
    "def linear_search(search_list):\n",
    "    maximum = search_list[0]\n",
    "    for idx in range(1, len(search_list)):\n",
    "        if search_list[idx] > maximum:\n",
    "            maximum = search_list[idx]  \n",
    "    return maximum\n",
    "\n",
    "# Function call\n",
    "highest_score = linear_search(test_scores)\n",
    "\n",
    "#Prints out the highest score in the list\n",
    "print(highest_score)"
   ]
  },
  {
   "cell_type": "markdown",
   "metadata": {},
   "source": [
    "# Binary search"
   ]
  },
  {
   "cell_type": "code",
   "execution_count": 41,
   "metadata": {},
   "outputs": [
    {
     "name": "stdout",
     "output_type": "stream",
     "text": [
      "element 288 is located at index 4\n"
     ]
    }
   ],
   "source": [
    "# define binary_search()\n",
    "def binary_search(sorted_list, target, left_pointer, right_pointer):\n",
    "    if left_pointer >= right_pointer:\n",
    "        return 'value not found'\n",
    "    \n",
    "    mid_index = (right_pointer + left_pointer) // 2\n",
    "    \n",
    "    if sorted_list[mid_index] == target:\n",
    "        return mid_index\n",
    "    \n",
    "    if sorted_list[mid_index] > target:\n",
    "        return binary_search(sorted_list, target, left_pointer, mid_index)\n",
    "        \n",
    "    if sorted_list[mid_index] < target:\n",
    "        return binary_search(sorted_list, target, mid_index + 1, right_pointer)  \n",
    "\n",
    "values = [77, 80, 102, 123, 288, 300, 540]\n",
    "start_of_values = 0\n",
    "end_of_values = len(values)\n",
    "result = binary_search(values, 288, start_of_values, end_of_values)\n",
    "\n",
    "print(\"element {0} is located at index {1}\".format(288, result))"
   ]
  },
  {
   "cell_type": "markdown",
   "metadata": {},
   "source": [
    "# Graph search: depth-first search"
   ]
  },
  {
   "cell_type": "code",
   "execution_count": 42,
   "metadata": {},
   "outputs": [
    {
     "name": "stdout",
     "output_type": "stream",
     "text": [
      "['sharks', 'piranhas', 'bees']\n"
     ]
    }
   ],
   "source": [
    "def dfs(graph, current_vertex, target_value, visited = None):\n",
    "    if visited is None:\n",
    "        visited = []\n",
    "    visited.append(current_vertex)\n",
    "    if current_vertex is target_value:\n",
    "        return visited\n",
    "  \n",
    "    for neighbor in graph[current_vertex]:\n",
    "        if neighbor not in visited:\n",
    "            path = dfs(graph, neighbor, target_value, visited)\n",
    "            if path:\n",
    "                return path\n",
    "\n",
    "some_hazardous_graph = {\n",
    "    'lava': set(['sharks', 'piranhas']),\n",
    "    'sharks': set(['piranhas', 'bees']),\n",
    "    'piranhas': set(['bees']),\n",
    "    'bees': set(['lasers']),\n",
    "    'lasers': set([])\n",
    "  }\n",
    "\n",
    "print(dfs(some_hazardous_graph, 'sharks', 'bees'))"
   ]
  },
  {
   "cell_type": "markdown",
   "metadata": {},
   "source": [
    "# Graph search: breadth-first search"
   ]
  },
  {
   "cell_type": "code",
   "execution_count": 43,
   "metadata": {},
   "outputs": [
    {
     "name": "stdout",
     "output_type": "stream",
     "text": [
      "['sharks', 'bees']\n"
     ]
    }
   ],
   "source": [
    "def bfs(graph, start_vertex, target_value):\n",
    "    path = [start_vertex]\n",
    "    vertex_and_path = [start_vertex, path]\n",
    "    bfs_queue = [vertex_and_path]\n",
    "    visited = set()\n",
    "    while bfs_queue:\n",
    "        current_vertex, path = bfs_queue.pop(0)\n",
    "        visited.add(current_vertex)\n",
    "        for neighbor in graph[current_vertex]:\n",
    "            if neighbor not in visited:\n",
    "                if neighbor is target_value:\n",
    "                    return path + [neighbor]\n",
    "                else:\n",
    "                    bfs_queue.append([neighbor, path + [neighbor]])\n",
    "\n",
    "some_hazardous_graph = {\n",
    "    'lava': set(['sharks', 'piranhas']),\n",
    "    'sharks': set(['piranhas', 'bees']),\n",
    "    'piranhas': set(['bees']),\n",
    "    'bees': set(['lasers']),\n",
    "    'lasers': set([])\n",
    "  }\n",
    "\n",
    "print(bfs(some_hazardous_graph, 'sharks', 'bees'))"
   ]
  },
  {
   "cell_type": "code",
   "execution_count": null,
   "metadata": {},
   "outputs": [],
   "source": []
  }
 ],
 "metadata": {
  "kernelspec": {
   "display_name": "Python 3",
   "language": "python",
   "name": "python3"
  },
  "language_info": {
   "codemirror_mode": {
    "name": "ipython",
    "version": 3
   },
   "file_extension": ".py",
   "mimetype": "text/x-python",
   "name": "python",
   "nbconvert_exporter": "python",
   "pygments_lexer": "ipython3",
   "version": "3.6.5"
  }
 },
 "nbformat": 4,
 "nbformat_minor": 2
}
